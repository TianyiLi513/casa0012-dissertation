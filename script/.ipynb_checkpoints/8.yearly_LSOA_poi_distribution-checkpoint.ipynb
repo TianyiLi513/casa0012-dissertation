{
 "cells": [
  {
   "cell_type": "code",
   "execution_count": 1,
   "id": "51bd3876",
   "metadata": {},
   "outputs": [],
   "source": [
    "# -*- coding: utf-8 -*-\n",
    "#import esda\n",
    "import pandas as pd\n",
    "import geopandas as gpd\n",
    "from geopandas import GeoDataFrame\n",
    "#import libpysal as lps\n",
    "import numpy as np\n",
    "import matplotlib.pyplot as plt\n",
    "from shapely.geometry import Point\n",
    "#import contextily as ctx\n",
    "from pylab import figure, scatter, show\n",
    "import warnings\n",
    "# warnings.filterwarnings('ignore')\n",
    "# %matplotlib inline\n",
    "from math import cos\n",
    "\n",
    "#import geoplot as gplt\n",
    "#import geoplot.crs as gcrs\n",
    "from matplotlib.patches import Patch\n",
    "from mpl_toolkits.axes_grid1.anchored_artists import AnchoredSizeBar"
   ]
  },
  {
   "cell_type": "code",
   "execution_count": 2,
   "id": "1c61fa3a",
   "metadata": {},
   "outputs": [],
   "source": [
    "def find_lsoa(point):\n",
    "    for name, polygon in zip(df_map['LSOA11CD'], df_map['geometry']):\n",
    "        if point.within(polygon):\n",
    "            return name\n",
    "    return ''"
   ]
  },
  {
   "cell_type": "code",
   "execution_count": 3,
   "id": "38a73380",
   "metadata": {},
   "outputs": [
    {
     "ename": "NameError",
     "evalue": "name 'df_map' is not defined",
     "output_type": "error",
     "traceback": [
      "\u001b[0;31m---------------------------------------------------------------------------\u001b[0m",
      "\u001b[0;31mNameError\u001b[0m                                 Traceback (most recent call last)",
      "\u001b[0;32m/var/folders/39/y7wcy5s91p92rb023m86yvyw0000gn/T/ipykernel_72532/1667771864.py\u001b[0m in \u001b[0;36m<module>\u001b[0;34m\u001b[0m\n\u001b[1;32m      5\u001b[0m     \u001b[0mscattergdf\u001b[0m \u001b[0;34m=\u001b[0m \u001b[0mgpd\u001b[0m\u001b[0;34m.\u001b[0m\u001b[0mread_file\u001b[0m\u001b[0;34m(\u001b[0m\u001b[0;34mf'../result/data/osm_poi_data_selected/{y}/greater-london-{y}-free-selected.shp'\u001b[0m\u001b[0;34m)\u001b[0m\u001b[0;34m\u001b[0m\u001b[0;34m\u001b[0m\u001b[0m\n\u001b[1;32m      6\u001b[0m     \u001b[0mscattergdf\u001b[0m \u001b[0;34m=\u001b[0m \u001b[0mscattergdf\u001b[0m\u001b[0;34m.\u001b[0m\u001b[0mto_crs\u001b[0m\u001b[0;34m(\u001b[0m\u001b[0mcrs\u001b[0m\u001b[0;34m=\u001b[0m\u001b[0;34m'OSGB36 / British National Grid + ODN height'\u001b[0m\u001b[0;34m)\u001b[0m \u001b[0;31m#经纬度转笛卡尔坐标系\u001b[0m\u001b[0;34m\u001b[0m\u001b[0;34m\u001b[0m\u001b[0m\n\u001b[0;32m----> 7\u001b[0;31m     \u001b[0mscattergdf\u001b[0m\u001b[0;34m[\u001b[0m\u001b[0;34m'LSOA'\u001b[0m\u001b[0;34m]\u001b[0m \u001b[0;34m=\u001b[0m \u001b[0mscattergdf\u001b[0m\u001b[0;34m[\u001b[0m\u001b[0;34m'geometry'\u001b[0m\u001b[0;34m]\u001b[0m\u001b[0;34m.\u001b[0m\u001b[0mapply\u001b[0m\u001b[0;34m(\u001b[0m\u001b[0mfind_lsoa\u001b[0m\u001b[0;34m)\u001b[0m\u001b[0;34m\u001b[0m\u001b[0;34m\u001b[0m\u001b[0m\n\u001b[0m\u001b[1;32m      8\u001b[0m     scattergdf.to_file(f'../result/data/{y}_poi_LSOA.shp',\n\u001b[1;32m      9\u001b[0m                \u001b[0mdriver\u001b[0m\u001b[0;34m=\u001b[0m\u001b[0;34m'ESRI Shapefile'\u001b[0m\u001b[0;34m,\u001b[0m\u001b[0;34m\u001b[0m\u001b[0;34m\u001b[0m\u001b[0m\n",
      "\u001b[0;32m~/opt/anaconda3/envs/tianyi/lib/python3.7/site-packages/geopandas/geoseries.py\u001b[0m in \u001b[0;36mapply\u001b[0;34m(self, func, convert_dtype, args, **kwargs)\u001b[0m\n\u001b[1;32m    572\u001b[0m     \u001b[0;34m@\u001b[0m\u001b[0minherit_doc\u001b[0m\u001b[0;34m(\u001b[0m\u001b[0mpd\u001b[0m\u001b[0;34m.\u001b[0m\u001b[0mSeries\u001b[0m\u001b[0;34m)\u001b[0m\u001b[0;34m\u001b[0m\u001b[0;34m\u001b[0m\u001b[0m\n\u001b[1;32m    573\u001b[0m     \u001b[0;32mdef\u001b[0m \u001b[0mapply\u001b[0m\u001b[0;34m(\u001b[0m\u001b[0mself\u001b[0m\u001b[0;34m,\u001b[0m \u001b[0mfunc\u001b[0m\u001b[0;34m,\u001b[0m \u001b[0mconvert_dtype\u001b[0m\u001b[0;34m=\u001b[0m\u001b[0;32mTrue\u001b[0m\u001b[0;34m,\u001b[0m \u001b[0margs\u001b[0m\u001b[0;34m=\u001b[0m\u001b[0;34m(\u001b[0m\u001b[0;34m)\u001b[0m\u001b[0;34m,\u001b[0m \u001b[0;34m**\u001b[0m\u001b[0mkwargs\u001b[0m\u001b[0;34m)\u001b[0m\u001b[0;34m:\u001b[0m\u001b[0;34m\u001b[0m\u001b[0;34m\u001b[0m\u001b[0m\n\u001b[0;32m--> 574\u001b[0;31m         \u001b[0mresult\u001b[0m \u001b[0;34m=\u001b[0m \u001b[0msuper\u001b[0m\u001b[0;34m(\u001b[0m\u001b[0;34m)\u001b[0m\u001b[0;34m.\u001b[0m\u001b[0mapply\u001b[0m\u001b[0;34m(\u001b[0m\u001b[0mfunc\u001b[0m\u001b[0;34m,\u001b[0m \u001b[0mconvert_dtype\u001b[0m\u001b[0;34m=\u001b[0m\u001b[0mconvert_dtype\u001b[0m\u001b[0;34m,\u001b[0m \u001b[0margs\u001b[0m\u001b[0;34m=\u001b[0m\u001b[0margs\u001b[0m\u001b[0;34m,\u001b[0m \u001b[0;34m**\u001b[0m\u001b[0mkwargs\u001b[0m\u001b[0;34m)\u001b[0m\u001b[0;34m\u001b[0m\u001b[0;34m\u001b[0m\u001b[0m\n\u001b[0m\u001b[1;32m    575\u001b[0m         \u001b[0;32mif\u001b[0m \u001b[0misinstance\u001b[0m\u001b[0;34m(\u001b[0m\u001b[0mresult\u001b[0m\u001b[0;34m,\u001b[0m \u001b[0mGeoSeries\u001b[0m\u001b[0;34m)\u001b[0m\u001b[0;34m:\u001b[0m\u001b[0;34m\u001b[0m\u001b[0;34m\u001b[0m\u001b[0m\n\u001b[1;32m    576\u001b[0m             \u001b[0;32mif\u001b[0m \u001b[0mself\u001b[0m\u001b[0;34m.\u001b[0m\u001b[0mcrs\u001b[0m \u001b[0;32mis\u001b[0m \u001b[0;32mnot\u001b[0m \u001b[0;32mNone\u001b[0m\u001b[0;34m:\u001b[0m\u001b[0;34m\u001b[0m\u001b[0;34m\u001b[0m\u001b[0m\n",
      "\u001b[0;32m~/opt/anaconda3/envs/tianyi/lib/python3.7/site-packages/pandas/core/series.py\u001b[0m in \u001b[0;36mapply\u001b[0;34m(self, func, convert_dtype, args, **kwargs)\u001b[0m\n\u001b[1;32m   4355\u001b[0m         \u001b[0mdtype\u001b[0m\u001b[0;34m:\u001b[0m \u001b[0mfloat64\u001b[0m\u001b[0;34m\u001b[0m\u001b[0;34m\u001b[0m\u001b[0m\n\u001b[1;32m   4356\u001b[0m         \"\"\"\n\u001b[0;32m-> 4357\u001b[0;31m         \u001b[0;32mreturn\u001b[0m \u001b[0mSeriesApply\u001b[0m\u001b[0;34m(\u001b[0m\u001b[0mself\u001b[0m\u001b[0;34m,\u001b[0m \u001b[0mfunc\u001b[0m\u001b[0;34m,\u001b[0m \u001b[0mconvert_dtype\u001b[0m\u001b[0;34m,\u001b[0m \u001b[0margs\u001b[0m\u001b[0;34m,\u001b[0m \u001b[0mkwargs\u001b[0m\u001b[0;34m)\u001b[0m\u001b[0;34m.\u001b[0m\u001b[0mapply\u001b[0m\u001b[0;34m(\u001b[0m\u001b[0;34m)\u001b[0m\u001b[0;34m\u001b[0m\u001b[0;34m\u001b[0m\u001b[0m\n\u001b[0m\u001b[1;32m   4358\u001b[0m \u001b[0;34m\u001b[0m\u001b[0m\n\u001b[1;32m   4359\u001b[0m     def _reduce(\n",
      "\u001b[0;32m~/opt/anaconda3/envs/tianyi/lib/python3.7/site-packages/pandas/core/apply.py\u001b[0m in \u001b[0;36mapply\u001b[0;34m(self)\u001b[0m\n\u001b[1;32m   1041\u001b[0m             \u001b[0;32mreturn\u001b[0m \u001b[0mself\u001b[0m\u001b[0;34m.\u001b[0m\u001b[0mapply_str\u001b[0m\u001b[0;34m(\u001b[0m\u001b[0;34m)\u001b[0m\u001b[0;34m\u001b[0m\u001b[0;34m\u001b[0m\u001b[0m\n\u001b[1;32m   1042\u001b[0m \u001b[0;34m\u001b[0m\u001b[0m\n\u001b[0;32m-> 1043\u001b[0;31m         \u001b[0;32mreturn\u001b[0m \u001b[0mself\u001b[0m\u001b[0;34m.\u001b[0m\u001b[0mapply_standard\u001b[0m\u001b[0;34m(\u001b[0m\u001b[0;34m)\u001b[0m\u001b[0;34m\u001b[0m\u001b[0;34m\u001b[0m\u001b[0m\n\u001b[0m\u001b[1;32m   1044\u001b[0m \u001b[0;34m\u001b[0m\u001b[0m\n\u001b[1;32m   1045\u001b[0m     \u001b[0;32mdef\u001b[0m \u001b[0magg\u001b[0m\u001b[0;34m(\u001b[0m\u001b[0mself\u001b[0m\u001b[0;34m)\u001b[0m\u001b[0;34m:\u001b[0m\u001b[0;34m\u001b[0m\u001b[0;34m\u001b[0m\u001b[0m\n",
      "\u001b[0;32m~/opt/anaconda3/envs/tianyi/lib/python3.7/site-packages/pandas/core/apply.py\u001b[0m in \u001b[0;36mapply_standard\u001b[0;34m(self)\u001b[0m\n\u001b[1;32m   1099\u001b[0m                     \u001b[0mvalues\u001b[0m\u001b[0;34m,\u001b[0m\u001b[0;34m\u001b[0m\u001b[0;34m\u001b[0m\u001b[0m\n\u001b[1;32m   1100\u001b[0m                     \u001b[0mf\u001b[0m\u001b[0;34m,\u001b[0m  \u001b[0;31m# type: ignore[arg-type]\u001b[0m\u001b[0;34m\u001b[0m\u001b[0;34m\u001b[0m\u001b[0m\n\u001b[0;32m-> 1101\u001b[0;31m                     \u001b[0mconvert\u001b[0m\u001b[0;34m=\u001b[0m\u001b[0mself\u001b[0m\u001b[0;34m.\u001b[0m\u001b[0mconvert_dtype\u001b[0m\u001b[0;34m,\u001b[0m\u001b[0;34m\u001b[0m\u001b[0;34m\u001b[0m\u001b[0m\n\u001b[0m\u001b[1;32m   1102\u001b[0m                 )\n\u001b[1;32m   1103\u001b[0m \u001b[0;34m\u001b[0m\u001b[0m\n",
      "\u001b[0;32m~/opt/anaconda3/envs/tianyi/lib/python3.7/site-packages/pandas/_libs/lib.pyx\u001b[0m in \u001b[0;36mpandas._libs.lib.map_infer\u001b[0;34m()\u001b[0m\n",
      "\u001b[0;32m/var/folders/39/y7wcy5s91p92rb023m86yvyw0000gn/T/ipykernel_72532/2163379983.py\u001b[0m in \u001b[0;36mfind_lsoa\u001b[0;34m(point)\u001b[0m\n\u001b[1;32m      1\u001b[0m \u001b[0;32mdef\u001b[0m \u001b[0mfind_lsoa\u001b[0m\u001b[0;34m(\u001b[0m\u001b[0mpoint\u001b[0m\u001b[0;34m)\u001b[0m\u001b[0;34m:\u001b[0m\u001b[0;34m\u001b[0m\u001b[0;34m\u001b[0m\u001b[0m\n\u001b[0;32m----> 2\u001b[0;31m     \u001b[0;32mfor\u001b[0m \u001b[0mname\u001b[0m\u001b[0;34m,\u001b[0m \u001b[0mpolygon\u001b[0m \u001b[0;32min\u001b[0m \u001b[0mzip\u001b[0m\u001b[0;34m(\u001b[0m\u001b[0mdf_map\u001b[0m\u001b[0;34m[\u001b[0m\u001b[0;34m'LSOA11CD'\u001b[0m\u001b[0;34m]\u001b[0m\u001b[0;34m,\u001b[0m \u001b[0mdf_map\u001b[0m\u001b[0;34m[\u001b[0m\u001b[0;34m'geometry'\u001b[0m\u001b[0;34m]\u001b[0m\u001b[0;34m)\u001b[0m\u001b[0;34m:\u001b[0m\u001b[0;34m\u001b[0m\u001b[0;34m\u001b[0m\u001b[0m\n\u001b[0m\u001b[1;32m      3\u001b[0m         \u001b[0;32mif\u001b[0m \u001b[0mpoint\u001b[0m\u001b[0;34m.\u001b[0m\u001b[0mwithin\u001b[0m\u001b[0;34m(\u001b[0m\u001b[0mpolygon\u001b[0m\u001b[0;34m)\u001b[0m\u001b[0;34m:\u001b[0m\u001b[0;34m\u001b[0m\u001b[0;34m\u001b[0m\u001b[0m\n\u001b[1;32m      4\u001b[0m             \u001b[0;32mreturn\u001b[0m \u001b[0mname\u001b[0m\u001b[0;34m\u001b[0m\u001b[0;34m\u001b[0m\u001b[0m\n\u001b[1;32m      5\u001b[0m     \u001b[0;32mreturn\u001b[0m \u001b[0;34m''\u001b[0m\u001b[0;34m\u001b[0m\u001b[0;34m\u001b[0m\u001b[0m\n",
      "\u001b[0;31mNameError\u001b[0m: name 'df_map' is not defined"
     ]
    }
   ],
   "source": [
    "year = 2020 \n",
    "\n",
    "# # 用于创建LSOA需求shp,计算费时较多，建议算一次后直接读取结果文件\n",
    "for y in range(2014,2024):\n",
    "    scattergdf = gpd.read_file(f'../result/data/osm_poi_data_selected/{y}/greater-london-{y}-free-selected.shp')\n",
    "    scattergdf = scattergdf.to_crs(crs='OSGB36 / British National Grid + ODN height') #经纬度转笛卡尔坐标系\n",
    "    scattergdf['LSOA'] = scattergdf['geometry'].apply(find_lsoa)\n",
    "    scattergdf.to_file(f'../result/data/{y}_poi_LSOA.shp',\n",
    "               driver='ESRI Shapefile',\n",
    "               encoding='utf-8')"
   ]
  },
  {
   "cell_type": "code",
   "execution_count": null,
   "id": "547678e4",
   "metadata": {},
   "outputs": [],
   "source": [
    "# LSOA data\n",
    "df_map = gpd.read_file('../data/statistical-gis-boundaries-london/ESRI/LSOA_2011_London_gen_MHW.shp', crs='ESRI:54004')"
   ]
  },
  {
   "cell_type": "code",
   "execution_count": null,
   "id": "fd6366be",
   "metadata": {},
   "outputs": [],
   "source": [
    "df_map_borough = gpd.read_file('../data/statistical-gis-boundaries-london/ESRI', crs='ESRI:54004')\n",
    "df_map_borough"
   ]
  },
  {
   "cell_type": "code",
   "execution_count": null,
   "id": "6e3e0d6e",
   "metadata": {},
   "outputs": [],
   "source": [
    "import matplotlib.colors as colors\n",
    "levels0 = [0,0.1,5,10,20,30,40,50,60]\n",
    "levels = [i*1e-5 for i in levels0]\n",
    "color = ['aliceblue','royalblue','cyan','limegreen','yellow','orange','lightcoral','red']\n",
    "cmap = colors.ListedColormap(color)\n",
    "norm = colors.BoundaryNorm(levels, ncolors=cmap.N, clip=True)\n",
    "\n",
    "for yyy in range(2014,2024):\n",
    "    scattergdf = gpd.read_file(f'../result/data/{yyy}_poi_LSOA.shp')\n",
    "    temp = scattergdf['LSOA'].value_counts()\n",
    "    temp = pd.DataFrame(temp)\n",
    "    temp.rename(columns={'LSOA':'Retail_count'},inplace=True)\n",
    "    temp['LSOA'] = temp.index\n",
    "    df_map2 = pd.merge(df_map,temp,left_on='LSOA11CD', right_on = 'LSOA',\n",
    "                              how='left')\n",
    "    df_map2 = df_map2.fillna(value={'Retail_count':0})\n",
    "    df_map2['Retail_Density']  = df_map2['Retail_count']/df_map2.area\n",
    "\n",
    "    # draw the ratail density for Borough \n",
    "    fig,ax = plt.subplots(figsize=(10,10))\n",
    "    # draw the positions of retail shops\n",
    "    df_map2.plot(ax=ax,edgecolor='w',lw=0.1,zorder=12,\n",
    "                 norm=norm,cmap=cmap,column='Retail_Density')\n",
    "\n",
    "    # add the borough name \n",
    "    # 加上后图比较乱，建议不加\n",
    "    #centroids = df_map_borough.geometry.centroid\n",
    "    #for i,p in enumerate(centroids):\n",
    "    #    ax.text(p.x,p.y,s = df_map_borough.loc[i,'NAME'],fontsize=10,color='k',zorder=13,\n",
    "    #            horizontalalignment='center')\n",
    "    df_map_borough.plot(ax=ax,edgecolor='k',lw=0.5,zorder=14,facecolor='none')\n",
    "\n",
    "    #ax.axis('off')\n",
    "    plt.xticks([])\n",
    "    plt.yticks([])\n",
    "\n",
    "    #plot North arrow\n",
    "    x,y,arrow_length = 0.95,0.95,0.1\n",
    "    ax.annotate('N',xy=(x,y),xytext=(x,y-arrow_length),\n",
    "                ha = 'center',va='center',fontsize=10,\n",
    "                arrowprops=dict(arrowstyle='Fancy',facecolor='black'),\n",
    "                xycoords=ax.transAxes)\n",
    "\n",
    "    #plot scale bar\n",
    "    size = 1000  # 距离时为1000米\n",
    "    iow_scale_bar = AnchoredSizeBar(ax.transData,\n",
    "                                    size=size,label='1km',loc='lower left',pad=0.5,\n",
    "                                    borderpad=0.5,color='black',\n",
    "                                    frameon=True)#,size_vertical=0.5)\n",
    "    ax.add_artist(iow_scale_bar)\n",
    "\n",
    "    #plot legend\n",
    "    labels2 = [f'{levels0[i]}-{levels0[i+1]}' for i in range(len(levels)-1)]\n",
    "    legend_elements = [Patch(facecolor=color[i], edgecolor=color[i],\n",
    "                          label=labels2[i]) for i in range(len(levels)-1)]\n",
    "\n",
    "    ax.legend(handles=legend_elements, loc='lower right',handlelength=0.8,fontsize=10,title='Retail Density \\n  (10$^{-5}$ #/m$^{2}$ )')\n",
    "    plt.title(f'{yyy} Retail Density for LSOA',fontsize=20)\n",
    "\n",
    "    path_out = '../result/plot/'\n",
    "    filename = f'{yyy}_London_LSOA_with_retail_density'\n",
    "    plt.savefig(path_out+filename+'.png',\n",
    "                    dpi=500,bbox_inches = 'tight')"
   ]
  },
  {
   "cell_type": "code",
   "execution_count": null,
   "id": "c7acdb52",
   "metadata": {},
   "outputs": [],
   "source": []
  }
 ],
 "metadata": {
  "kernelspec": {
   "display_name": "Python 3 (ipykernel)",
   "language": "python",
   "name": "python3"
  },
  "language_info": {
   "codemirror_mode": {
    "name": "ipython",
    "version": 3
   },
   "file_extension": ".py",
   "mimetype": "text/x-python",
   "name": "python",
   "nbconvert_exporter": "python",
   "pygments_lexer": "ipython3",
   "version": "3.7.16"
  }
 },
 "nbformat": 4,
 "nbformat_minor": 5
}
