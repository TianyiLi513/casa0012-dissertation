{
 "cells": [
  {
   "cell_type": "code",
   "execution_count": 1,
   "id": "f702f552",
   "metadata": {},
   "outputs": [],
   "source": [
    "# 基于arcgis的arcpy进行ANN计算，鉴于arcpy包比较难装，但ANN算法暂时未找到Python的成熟包，直接用的arcgis进行计算\n",
    "\n",
    "# Import system modules\n",
    "import arcpy\n",
    " \n",
    "# Local variables...\n",
    "workspace = \"C:/Users/woxih/Desktop/22-4000/work/result/data/osm_poi_data_selected/2020\"\n",
    "crime_data = \"greater-london-2020-free-selected.shp\"\n",
    " \n",
    "try:\n",
    "    # Set the current workspace (to avoid having to specify the full path to the feature classes each time)\n",
    "    arcpy.env.workspace = workspace\n",
    " \n",
    "    # Obtain Nearest Neighbor Ratio and z-score\n",
    "    # Process: Average Nearest Neighbor...\n",
    "    nn_output = arcpy.AverageNearestNeighbor_stats(crime_data, \"EUCLIDEAN_DISTANCE\", \"NO_REPORT\", \"#\")\n",
    "    \n",
    "    # Create list of Average Nearest Neighbor output values by splitting the result object\n",
    "    print(\"The nearest neighbor index is: \" + nn_output[0])\n",
    "    print(\"The z-score of the nearest neighbor index is: \" + nn_output[1])\n",
    "    print(\"The p-value of the nearest neighbor index is: \" + nn_output[2])\n",
    "    print(\"The expected mean distance is: \" + nn_output[3])\n",
    "    print(\"The observed mean distance is: \" + nn_output[4])\n",
    "    print(\"The path of the HTML report: \" + nn_output[5])\n",
    " \n",
    "except arcpy.ExecuteError:\n",
    "    # If an error occurred when running the tool, print out the error message.\n",
    "    print(arcpy.GetMessages())"
   ]
  }
 ],
 "metadata": {
  "kernelspec": {
   "display_name": "Python 3",
   "language": "python",
   "name": "python3"
  },
  "language_info": {
   "codemirror_mode": {
    "name": "ipython",
    "version": 3
   },
   "file_extension": ".py",
   "mimetype": "text/x-python",
   "name": "python",
   "nbconvert_exporter": "python",
   "pygments_lexer": "ipython3",
   "version": "3.8.8"
  }
 },
 "nbformat": 4,
 "nbformat_minor": 5
}
